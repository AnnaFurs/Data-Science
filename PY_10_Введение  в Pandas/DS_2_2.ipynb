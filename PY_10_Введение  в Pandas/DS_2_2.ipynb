{
 "cells": [
  {
   "cell_type": "code",
   "execution_count": null,
   "metadata": {},
   "outputs": [],
   "source": []
  }
 ],
 "metadata": {
  "kernelspec": {
   "display_name": "Python 3.9.10 64-bit",
   "language": "python",
   "name": "python3"
  },
  "language_info": {
   "name": "python",
   "version": "3.9.10"
  },
  "orig_nbformat": 4,
  "vscode": {
   "interpreter": {
    "hash": "0ca6eaf0ef9583bf51edcd0d13b1be34c2b1cb538630207638bacb63b5c69132"
   }
  }
 },
 "nbformat": 4,
 "nbformat_minor": 2
}
